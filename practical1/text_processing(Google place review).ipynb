{
 "cells": [
  {
   "cell_type": "code",
   "execution_count": 27,
   "metadata": {},
   "outputs": [],
   "source": [
    "from selenium import webdriver\n",
    "from selenium.webdriver.common.by import By\n",
    "from selenium.webdriver.support.ui import WebDriverWait\n",
    "from selenium.webdriver.support import expected_conditions as EC\n",
    "from selenium.common.exceptions import TimeoutException\n",
    "import pandas as pd\n",
    "import requests\n",
    "from selenium.webdriver.common.desired_capabilities import DesiredCapabilities\n",
    "from selenium.webdriver.common.action_chains import ActionChains\n",
    "from selenium.common.exceptions import NoSuchElementException\n",
    "import time\n"
   ]
  },
  {
   "cell_type": "code",
   "execution_count": 28,
   "metadata": {},
   "outputs": [
    {
     "name": "stderr",
     "output_type": "stream",
     "text": [
      "<ipython-input-28-eeb9e88796db>:1: DeprecationWarning: executable_path has been deprecated, please pass in a Service object\n",
      "  chrome = webdriver.Chrome(\"E://NLP//chromedriver.exe\")\n"
     ]
    }
   ],
   "source": [
    "chrome = webdriver.Chrome(\"E://NLP//chromedriver.exe\")\n",
    "webdriver = chrome\n",
    "\n"
   ]
  },
  {
   "cell_type": "code",
   "execution_count": 29,
   "metadata": {},
   "outputs": [],
   "source": [
    "webdriver.get('https://www.google.com/search?q=greensky+atlanta&sxsrf=AOaemvIC3SgwHaiuNr-iwl-3Y9hc7xOngA%3A1637071362590&ei=ArqTYZK3I5PWz7sP0aSEqA4&oq=greensky+atlanta&gs_lcp=Cgdnd3Mtd2l6EAMyBwgAEEcQsAMyBwgAEEcQsAMyBwgAEEcQsAMyBwgAEEcQsAMyBwgAEEcQsAMyBwgAEEcQsAMyBwgAEEcQsAMyBwgAEEcQsAMyDQguEMcBENEDELADEEMyBwgAELADEENKBAhBGABQAFgAYIEGaAFwAngAgAEAiAEAkgEAmAEAyAEKwAEB&sclient=gws-wiz&ved=0ahUKEwiSwKeIhp30AhUT63MBHVESAeUQ4dUDCA4&uact=5')\n"
   ]
  },
  {
   "cell_type": "code",
   "execution_count": 30,
   "metadata": {},
   "outputs": [
    {
     "name": "stdout",
     "output_type": "stream",
     "text": [
      "!!!\n"
     ]
    }
   ],
   "source": [
    "Reviewer =[]\n",
    "ReviewDate = []\n",
    "ReviewRating =[]\n",
    "ReviewDescription = []\n",
    "TotalReviewsByUser = []\n",
    "webdriver_obj = []\n",
    "thisreview =[]\n",
    "print('!!!')\n",
    "time.sleep(3)\n",
    "last_len = 0"
   ]
  },
  {
   "cell_type": "code",
   "execution_count": 31,
   "metadata": {},
   "outputs": [],
   "source": [
    "\n",
    "def  get_reviews(thisreview):\n",
    "    global last_len\n",
    "    print(\"Don't Stop\")\n",
    "    for webdriver_obj in thisreview.find_elements_by_class_name(\"WMbnJf\"):\n",
    "        Name = webdriver_obj.find_element_by_class_name(\"Y0uHMb\")\n",
    "        Reviewer.append(Name.text)\n",
    "        try:\n",
    "            ReviewByuser = webdriver_obj.find_element_by_class_name(\"A503be\")\n",
    "            TotalReviewsByUser.append(ReviewByuser.text)\n",
    "        except NoSuchElementException:\n",
    "            TotalReviewsByUser.append(\"\")\n",
    "        star = webdriver_obj.find_element_by_class_name(\"fTKmHE99XE4__star\")\n",
    "        ReviewStar =star.get_attribute(\"aria-label\")\n",
    "        ReviewRating.append(ReviewStar)\n",
    "        Date = webdriver_obj.find_element_by_class_name(\"dehysf\")\n",
    "        ReviewDate.append(Date.text)\n",
    "        Body = webdriver_obj.find_element_by_class_name('Jtu6Td')\n",
    "        try:\n",
    "            webdriver_obj.find_element_by_class_name('review-snippet').click()\n",
    "            s_32B = webdriver_obj.find_element_by_class_name('review-full-text')\n",
    "            ReviewDescription.append(s_32B.text)\n",
    "        except NoSuchElementException:\n",
    "            ReviewDescription.append(Body.text)\n",
    "        print(\"Yes..\")\n",
    "        element = webdriver_obj.find_element_by_class_name('PuaHbe')\n",
    "        webdriver.execute_script(\"arguments[0].scrollIntoView();\", element)\n",
    "    print(\"ah!..Go\")\n",
    "    time.sleep(3)\n",
    "    reviews = webdriver.find_elements_by_class_name(\"gws-localreviews__general-reviews-block\")\n",
    "    r_len = len(reviews)\n",
    "    if r_len > last_len:\n",
    "        last_len = r_len\n",
    "        get_reviews(reviews[r_len-1])\n",
    "\n",
    "    reviews = webdriver.find_elements_by_class_name(\"gws-localreviews__general-reviews-block\")\n",
    "    last_len = len(reviews)\n",
    "    get_reviews(reviews[last_len-1])\n",
    "\n",
    "    data = pd.DataFrame ( { 'Reviewer' : Reviewer, 'TotalReviewsByUser': TotalReviewsByUser,\n",
    "                               'ReviewRating':ReviewRating,'ReviewDate':ReviewDate,\n",
    "                               'ReviewDescription':ReviewDescription})\n",
    "\n",
    "    data.to_csv('reviews.csv', index=False)    \n",
    "    return data"
   ]
  },
  {
   "cell_type": "code",
   "execution_count": null,
   "metadata": {},
   "outputs": [],
   "source": []
  }
 ],
 "metadata": {
  "kernelspec": {
   "display_name": "Python 3",
   "language": "python",
   "name": "python3"
  },
  "language_info": {
   "codemirror_mode": {
    "name": "ipython",
    "version": 3
   },
   "file_extension": ".py",
   "mimetype": "text/x-python",
   "name": "python",
   "nbconvert_exporter": "python",
   "pygments_lexer": "ipython3",
   "version": "3.8.5"
  }
 },
 "nbformat": 4,
 "nbformat_minor": 4
}
